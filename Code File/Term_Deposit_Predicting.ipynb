{
  "nbformat": 4,
  "nbformat_minor": 0,
  "metadata": {
    "colab": {
      "private_outputs": true,
      "provenance": [],
      "authorship_tag": "ABX9TyNC6S5bk74cpJ5dcKtNlHJd",
      "include_colab_link": true
    },
    "kernelspec": {
      "name": "python3",
      "display_name": "Python 3"
    },
    "language_info": {
      "name": "python"
    }
  },
  "cells": [
    {
      "cell_type": "markdown",
      "metadata": {
        "id": "view-in-github",
        "colab_type": "text"
      },
      "source": [
        "<a href=\"https://colab.research.google.com/github/Keerthana8888/Term-Deposit-Prediction/blob/main/Code%20File/Term_Deposit_Predicting.ipynb\" target=\"_parent\"><img src=\"https://colab.research.google.com/assets/colab-badge.svg\" alt=\"Open In Colab\"/></a>"
      ]
    },
    {
      "cell_type": "markdown",
      "source": [
        "## Load The Data And Libraries"
      ],
      "metadata": {
        "id": "IYhzzxmn8Irs"
      }
    },
    {
      "cell_type": "code",
      "execution_count": null,
      "metadata": {
        "id": "wiko-8oW8EmX"
      },
      "outputs": [],
      "source": [
        "#Standard Libraries\n",
        "import pandas as pd\n",
        "import numpy as np\n",
        "import matplotlib.pyplot as plt\n",
        "import seaborn as sns\n",
        "# Models Selection\n",
        "from sklearn import preprocessing\n",
        "from sklearn.preprocessing import StandardScaler\n",
        "from sklearn.model_selection import train_test_split,RandomizedSearchCV\n",
        "from sklearn.linear_model import LogisticRegression\n",
        "from sklearn.preprocessing import LabelEncoder\n",
        "from sklearn.tree import DecisionTreeClassifier\n",
        "from sklearn.tree import plot_tree\n",
        "from sklearn.ensemble import RandomForestClassifier , AdaBoostClassifier , GradientBoostingClassifier\n",
        "from sklearn.neighbors import KNeighborsClassifier\n",
        "from sklearn.compose import make_column_transformer\n",
        "from sklearn.pipeline import make_pipeline\n",
        "from xgboost import XGBClassifier\n",
        "from sklearn.svm import SVC\n",
        "from sklearn.model_selection import RandomizedSearchCV\n",
        "# Evaluators\n",
        "from sklearn.metrics import accuracy_score , classification_report , confusion_matrix"
      ]
    },
    {
      "cell_type": "code",
      "source": [
        "dataset=pd.read_csv('/content/bank-additional-full.csv',sep=';')"
      ],
      "metadata": {
        "id": "lJdZWp928qfW"
      },
      "execution_count": null,
      "outputs": []
    },
    {
      "cell_type": "code",
      "source": [
        "dataset.info()"
      ],
      "metadata": {
        "id": "tZ8svEQk9Pa7"
      },
      "execution_count": null,
      "outputs": []
    },
    {
      "cell_type": "code",
      "source": [
        "dataset.head()"
      ],
      "metadata": {
        "id": "3rS8bxAY9TSj"
      },
      "execution_count": null,
      "outputs": []
    },
    {
      "cell_type": "markdown",
      "source": [
        "# Exploratory Data Analysis"
      ],
      "metadata": {
        "id": "9Be7k-jY9u4y"
      }
    },
    {
      "cell_type": "code",
      "source": [
        "dataset.describe()"
      ],
      "metadata": {
        "id": "Cbs8Xklv9kqI"
      },
      "execution_count": null,
      "outputs": []
    },
    {
      "cell_type": "markdown",
      "source": [
        "## Uni-Varient"
      ],
      "metadata": {
        "id": "2Piiueyf-ZjN"
      }
    },
    {
      "cell_type": "code",
      "source": [
        "dataset.skew()"
      ],
      "metadata": {
        "id": "7MmETho6DeFe"
      },
      "execution_count": null,
      "outputs": []
    },
    {
      "cell_type": "code",
      "source": [
        "for i in dataset:\n",
        "  sns.displot(dataset[i], kde=True)\n",
        "  plt.figure(figsize=(20,10))"
      ],
      "metadata": {
        "id": "FJISCIDR94ca"
      },
      "execution_count": null,
      "outputs": []
    },
    {
      "cell_type": "markdown",
      "source": [
        "## Bi-Varient"
      ],
      "metadata": {
        "id": "xEFg-YshAX6L"
      }
    },
    {
      "cell_type": "code",
      "source": [
        "plt.figure(figsize=(12,10))\n",
        "sns.heatmap(dataset.corr(), annot=True, cmap='BuPu')"
      ],
      "metadata": {
        "id": "WUuQGFqF-M6A"
      },
      "execution_count": null,
      "outputs": []
    },
    {
      "cell_type": "markdown",
      "source": [
        "# Data Preparation"
      ],
      "metadata": {
        "id": "-BQSC_wGE_Ux"
      }
    },
    {
      "cell_type": "markdown",
      "source": [
        "## Lable Encoding"
      ],
      "metadata": {
        "id": "repPATfMAxFu"
      }
    },
    {
      "cell_type": "code",
      "source": [
        "data_transformed=pd.get_dummies(dataset.iloc[:,:-1])"
      ],
      "metadata": {
        "id": "PY2286ncA0T8"
      },
      "execution_count": null,
      "outputs": []
    },
    {
      "cell_type": "code",
      "source": [
        "data_transformed.head()"
      ],
      "metadata": {
        "id": "ioqJtPxaFdvS"
      },
      "execution_count": null,
      "outputs": []
    },
    {
      "cell_type": "code",
      "source": [
        "data_transformed.info()"
      ],
      "metadata": {
        "id": "84nbVsrBF5uQ"
      },
      "execution_count": null,
      "outputs": []
    },
    {
      "cell_type": "code",
      "source": [
        "x=data_transformed\n",
        "y=dataset['y']"
      ],
      "metadata": {
        "id": "kNP8l6AiGKVl"
      },
      "execution_count": null,
      "outputs": []
    },
    {
      "cell_type": "code",
      "source": [
        "print(x.shape)\n",
        "print(y.shape)"
      ],
      "metadata": {
        "id": "M2iJ2AT5Pm1J"
      },
      "execution_count": null,
      "outputs": []
    },
    {
      "cell_type": "code",
      "source": [
        "x_train, x_test, y_train, y_test = train_test_split(x,y,test_size=0.2, random_state=42)"
      ],
      "metadata": {
        "id": "c5RxnhIcPwqG"
      },
      "execution_count": null,
      "outputs": []
    },
    {
      "cell_type": "markdown",
      "source": [
        "# Multi-Varient"
      ],
      "metadata": {
        "id": "prAnHahXQZDe"
      }
    },
    {
      "cell_type": "markdown",
      "source": [
        "## Logistic Regression"
      ],
      "metadata": {
        "id": "M6t30aDGQezC"
      }
    },
    {
      "cell_type": "code",
      "source": [
        "lr = LogisticRegression()\n",
        "lr.fit(x_train,y_train)"
      ],
      "metadata": {
        "id": "EnWSq3zYQOf_"
      },
      "execution_count": null,
      "outputs": []
    },
    {
      "cell_type": "code",
      "source": [
        "y_hat_train_lr = lr.predict(x_train)\n",
        "y_hat_test_lr = lr.predict(x_test)"
      ],
      "metadata": {
        "id": "zmxVGdOTQ0sR"
      },
      "execution_count": null,
      "outputs": []
    },
    {
      "cell_type": "code",
      "source": [
        "def model_eval(actual, predicted):\n",
        "  conf_matrix = confusion_matrix(actual,predicted)\n",
        "  acc_score = accuracy_score(actual, predicted)\n",
        "  clas_rep = classification_report(actual, predicted)\n",
        "  print('The Accuracy of the model is: ', round(acc_score,2))\n",
        "  print(conf_matrix)\n",
        "  print(clas_rep)"
      ],
      "metadata": {
        "id": "VPpnwmY4Q8Oc"
      },
      "execution_count": null,
      "outputs": []
    },
    {
      "cell_type": "code",
      "source": [
        "model_eval(y_train, y_hat_train_lr)"
      ],
      "metadata": {
        "id": "frA9khe4RAyK"
      },
      "execution_count": null,
      "outputs": []
    },
    {
      "cell_type": "code",
      "source": [
        "model_eval(y_test, y_hat_test_lr)"
      ],
      "metadata": {
        "id": "5SBoLW7VRVhe"
      },
      "execution_count": null,
      "outputs": []
    },
    {
      "cell_type": "markdown",
      "source": [
        "## Decision Tree"
      ],
      "metadata": {
        "id": "lNMxwk4rRqgN"
      }
    },
    {
      "cell_type": "code",
      "source": [
        "dtree=DecisionTreeClassifier()\n",
        "dtree.fit(x_train,y_train)"
      ],
      "metadata": {
        "id": "t-3zkvF8Rf4D"
      },
      "execution_count": null,
      "outputs": []
    },
    {
      "cell_type": "code",
      "source": [
        "y_hat_train_dtree = dtree.predict(x_train)\n",
        "y_hat_test_dtree = dtree.predict(x_test)"
      ],
      "metadata": {
        "id": "l9goZ0nCR9O-"
      },
      "execution_count": null,
      "outputs": []
    },
    {
      "cell_type": "code",
      "source": [
        "model_eval(y_train, y_hat_train_dtree)"
      ],
      "metadata": {
        "id": "p2pxTBTJSFaT"
      },
      "execution_count": null,
      "outputs": []
    },
    {
      "cell_type": "code",
      "source": [
        "model_eval(y_test, y_hat_test_dtree)"
      ],
      "metadata": {
        "id": "uijQEUHLSLFF"
      },
      "execution_count": null,
      "outputs": []
    },
    {
      "cell_type": "code",
      "source": [
        "plt.figure(figsize=(15,10))\n",
        "clf=DecisionTreeClassifier(max_depth=4)\n",
        "clf.fit(x_train, y_train)\n",
        "plot_tree(clf, filled=True)\n",
        "plt.title(\"Decision tree trained on Bank D\")\n",
        "plt.show()"
      ],
      "metadata": {
        "id": "FXHprLPwSbyM"
      },
      "execution_count": null,
      "outputs": []
    },
    {
      "cell_type": "markdown",
      "source": [
        "## Random Forest"
      ],
      "metadata": {
        "id": "DI-Vav7LSnpV"
      }
    },
    {
      "cell_type": "code",
      "source": [
        "rf=RandomForestClassifier()\n",
        "rf.fit(x_train, y_train)"
      ],
      "metadata": {
        "id": "meyjebqeSe9i"
      },
      "execution_count": null,
      "outputs": []
    },
    {
      "cell_type": "code",
      "source": [
        "y_hat_train_rf=rf.predict(x_train)\n",
        "y_hat_test_rf=rf.predict(x_test)"
      ],
      "metadata": {
        "id": "4ojUIaTDSuTW"
      },
      "execution_count": null,
      "outputs": []
    },
    {
      "cell_type": "code",
      "source": [
        "model_eval(y_test, y_hat_test_rf)"
      ],
      "metadata": {
        "id": "-TmYKK7vTKxX"
      },
      "execution_count": null,
      "outputs": []
    },
    {
      "cell_type": "code",
      "source": [
        "model_eval(y_test, y_hat_test_rf)"
      ],
      "metadata": {
        "id": "NRrhW_xZTSzi"
      },
      "execution_count": null,
      "outputs": []
    },
    {
      "cell_type": "markdown",
      "source": [
        "## AdaBoost"
      ],
      "metadata": {
        "id": "YBbodZDJX9pm"
      }
    },
    {
      "cell_type": "code",
      "source": [
        "ada=AdaBoostClassifier()\n",
        "ada.fit(x_train, y_train)"
      ],
      "metadata": {
        "id": "PymOv3G3YAmn"
      },
      "execution_count": null,
      "outputs": []
    },
    {
      "cell_type": "code",
      "source": [
        "y_hat_train_ada = ada.predict(x_train)\n",
        "y_hat_test_ada = ada.predict(x_test)"
      ],
      "metadata": {
        "id": "QWOnuzYAYAx5"
      },
      "execution_count": null,
      "outputs": []
    },
    {
      "cell_type": "code",
      "source": [
        "model_eval(y_train, y_hat_train_ada)"
      ],
      "metadata": {
        "id": "F8pdfjXyYA9X"
      },
      "execution_count": null,
      "outputs": []
    },
    {
      "cell_type": "code",
      "source": [
        "model_eval(y_test, y_hat_test_ada)"
      ],
      "metadata": {
        "id": "124EXpzkYBIE"
      },
      "execution_count": null,
      "outputs": []
    },
    {
      "cell_type": "markdown",
      "source": [
        "## Gradient Boost"
      ],
      "metadata": {
        "id": "i8XArA5CV1vK"
      }
    },
    {
      "cell_type": "code",
      "source": [
        "gb=GradientBoostingClassifier()\n",
        "gb.fit(x_train, y_train)"
      ],
      "metadata": {
        "id": "-t8GCUujTcHt"
      },
      "execution_count": null,
      "outputs": []
    },
    {
      "cell_type": "code",
      "source": [
        "y_hat_train_gb=gb.predict(x_train)\n",
        "y_hat_test_gb=gb.predict(x_test)"
      ],
      "metadata": {
        "id": "7wlEU_WTWCB4"
      },
      "execution_count": null,
      "outputs": []
    },
    {
      "cell_type": "code",
      "source": [
        "model_eval(y_train, y_hat_train_gb)"
      ],
      "metadata": {
        "id": "tjk6zw7mWSeg"
      },
      "execution_count": null,
      "outputs": []
    },
    {
      "cell_type": "code",
      "source": [
        "model_eval(y_test, y_hat_test_gb)"
      ],
      "metadata": {
        "id": "yFgn5u1LWaPV"
      },
      "execution_count": null,
      "outputs": []
    },
    {
      "cell_type": "markdown",
      "source": [
        "## XGBoosting"
      ],
      "metadata": {
        "id": "bxhGCi_gZDIa"
      }
    },
    {
      "cell_type": "code",
      "source": [
        "le=LabelEncoder()\n",
        "y_train_enc=le.fit_transform(y_train)\n",
        "y_test_enc=le.fit_transform(y_test)"
      ],
      "metadata": {
        "id": "XQbgFeXqX4fS"
      },
      "execution_count": null,
      "outputs": []
    },
    {
      "cell_type": "code",
      "source": [
        "xgb=XGBClassifier()\n",
        "xgb.fit(x_train, y_train_enc)"
      ],
      "metadata": {
        "id": "t0GTTLv0ZQJV"
      },
      "execution_count": null,
      "outputs": []
    },
    {
      "cell_type": "code",
      "source": [
        "y_hat_train_xgb = xgb.predict(x_train)\n",
        "y_hat_test_xgb = xgb.predict(x_test)"
      ],
      "metadata": {
        "id": "ojmRifzWaJWT"
      },
      "execution_count": null,
      "outputs": []
    },
    {
      "cell_type": "code",
      "source": [
        "model_eval(y_train_enc, y_hat_train_xgb)"
      ],
      "metadata": {
        "id": "ScGrQZZkamOo"
      },
      "execution_count": null,
      "outputs": []
    },
    {
      "cell_type": "code",
      "source": [
        "model_eval(y_test_enc, y_hat_test_xgb)"
      ],
      "metadata": {
        "id": "9lGcovUSaohC"
      },
      "execution_count": null,
      "outputs": []
    },
    {
      "cell_type": "markdown",
      "source": [
        "## KNearestNeighbors"
      ],
      "metadata": {
        "id": "fGkY-i01a6p3"
      }
    },
    {
      "cell_type": "code",
      "source": [
        "acc_list = []\n",
        "for i in range(1,100):\n",
        "  knn2 = KNeighborsClassifier(n_neighbors = i)\n",
        "  knn2.fit(x_train , y_train)\n",
        "  y_hat_test_knn2 = knn2.predict(x_test)\n",
        "  acc_list.append(round(accuracy_score(y_test , y_hat_test_knn2) , 2))\n",
        "print(acc_list)"
      ],
      "metadata": {
        "id": "6zljrU-u6_t-"
      },
      "execution_count": null,
      "outputs": []
    },
    {
      "cell_type": "code",
      "source": [
        "x = np.array([i for i in range(1,100)])\n",
        "y = acc_list\n",
        "plt.figure(figsize=(15, 10))\n",
        "plt.plot(x, y, marker='o', linestyle='-')\n",
        "# Add annotations\n",
        "for i, (xi, yi) in enumerate(zip(x, y)):\n",
        "    plt.annotate(f'({xi}, {yi})', (xi, yi), textcoords=\"offset points\", xytext=(0, 10), ha='center' , rotation = 90)\n",
        "plt.xlabel(\"No of K\")\n",
        "plt.ylabel(\"Accuracy Score\")\n",
        "plt.show()"
      ],
      "metadata": {
        "id": "jg4Q7fXd7LYI"
      },
      "execution_count": null,
      "outputs": []
    },
    {
      "cell_type": "code",
      "source": [
        "knn = KNeighborsClassifier(n_neighbors = 8)\n",
        "knn.fit(x_train , y_train )"
      ],
      "metadata": {
        "id": "jaudQFLJ7NBV"
      },
      "execution_count": null,
      "outputs": []
    },
    {
      "cell_type": "code",
      "source": [
        "y_hat_train_knn = knn.predict(x_train)\n",
        "y_hat_test_knn = knn.predict(x_test)"
      ],
      "metadata": {
        "id": "F7z21zIe7PJf"
      },
      "execution_count": null,
      "outputs": []
    },
    {
      "cell_type": "code",
      "source": [
        "model_eval(y_train , y_hat_train_knn)"
      ],
      "metadata": {
        "id": "V_Bu77dv7RTY"
      },
      "execution_count": null,
      "outputs": []
    },
    {
      "cell_type": "code",
      "source": [
        "model_eval(y_test , y_hat_test_knn)"
      ],
      "metadata": {
        "id": "cm0jgOTg7TPP"
      },
      "execution_count": null,
      "outputs": []
    },
    {
      "cell_type": "markdown",
      "source": [
        "## Support Vector Machine Model"
      ],
      "metadata": {
        "id": "pcrqDUKa7sV6"
      }
    },
    {
      "cell_type": "code",
      "source": [
        "svm = SVC(kernel = 'sigmod' , degree = 4)\n",
        "svm.fit(x_train , y_train)"
      ],
      "metadata": {
        "id": "UzL7XUDV7VTX"
      },
      "execution_count": null,
      "outputs": []
    },
    {
      "cell_type": "code",
      "source": [
        "y_hat_train_svm = svm.predict(x_train)\n",
        "y_hat_test_svm = svm.predict(x_test)"
      ],
      "metadata": {
        "id": "JcEB1h9P7w42"
      },
      "execution_count": null,
      "outputs": []
    },
    {
      "cell_type": "code",
      "source": [
        "model_eval(y_train , y_hat_train_svm)"
      ],
      "metadata": {
        "id": "LzOxxGWk7yWA"
      },
      "execution_count": null,
      "outputs": []
    },
    {
      "cell_type": "code",
      "source": [
        "model_eval(y_test , y_hat_test_svm)"
      ],
      "metadata": {
        "id": "7DXf_ghr70VR"
      },
      "execution_count": null,
      "outputs": []
    },
    {
      "cell_type": "markdown",
      "source": [
        "##SVM with Randomized Search CV"
      ],
      "metadata": {
        "id": "gQvTNLPF8bXw"
      }
    },
    {
      "cell_type": "code",
      "source": [
        "params = {\"c\": np.arange(2,10,2),\n",
        "          \"kernal\": ['linear','ploy','rbf','sigmoid'],\n",
        "          \"degree\": (3, 4, 5, 6)}"
      ],
      "metadata": {
        "id": "Gq1I05Bl8w-0"
      },
      "execution_count": null,
      "outputs": []
    },
    {
      "cell_type": "code",
      "source": [
        "random_search_cv = RandomizedSearchCV(estimator=svm,param_distributions=params,\n",
        "                                      verbose=True)"
      ],
      "metadata": {
        "id": "Y1uAWiRk9nbu"
      },
      "execution_count": null,
      "outputs": []
    },
    {
      "cell_type": "code",
      "source": [
        "random_search_cv.fit (x_train, y_train)"
      ],
      "metadata": {
        "id": "CNLVCR1h-DSW"
      },
      "execution_count": null,
      "outputs": []
    },
    {
      "cell_type": "markdown",
      "source": [
        "# Model Selection"
      ],
      "metadata": {
        "id": "mBi6xVtKBFeA"
      }
    },
    {
      "cell_type": "code",
      "source": [
        "accuracy_table=[['Logistic Regression',round(accuracy_score(y_test , y_hat_test_lr),2)],\n",
        "  ['Decision Tree', round(accuracy_score(y_test , y_hat_test_dtree),2)],\n",
        "  ['Random Forest' , round(accuracy_score(y_test , y_hat_test_rf),2)],\n",
        "  ['Ada Boosting' , round(accuracy_score(y_test , y_hat_test_ada),2)],\n",
        "  ['Gradient Boosting' , round(accuracy_score(y_test , y_hat_test_gb),2)],\n",
        "  ['XGBoosting' , round(accuracy_score(y_test_enc, y_hat_test_xgb),2)],\n",
        "  ['KNN' , round(accuracy_score(y_test , y_hat_test_knn),2)],\n",
        "  ['SVM', round(accuracy_score(y_test , y_hat_test_svm),2)]             ]\n",
        "df1 = pd.DataFrame(accuracy_table, columns = ['Model','Test_Accuracy'])\n",
        "print(df1)"
      ],
      "metadata": {
        "id": "9sLSEDqrBJ9U"
      },
      "execution_count": null,
      "outputs": []
    }
  ]
}